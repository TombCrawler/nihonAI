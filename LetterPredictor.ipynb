{
  "nbformat": 4,
  "nbformat_minor": 0,
  "metadata": {
    "colab": {
      "provenance": [],
      "authorship_tag": "ABX9TyNlILDDSKhoWLNkG5zo7hst",
      "include_colab_link": true
    },
    "kernelspec": {
      "name": "python3",
      "display_name": "Python 3"
    },
    "language_info": {
      "name": "python"
    }
  },
  "cells": [
    {
      "cell_type": "markdown",
      "metadata": {
        "id": "view-in-github",
        "colab_type": "text"
      },
      "source": [
        "<a href=\"https://colab.research.google.com/github/TombCrawler/nihonAI/blob/main/LetterPredictor.ipynb\" target=\"_parent\"><img src=\"https://colab.research.google.com/assets/colab-badge.svg\" alt=\"Open In Colab\"/></a>"
      ]
    },
    {
      "cell_type": "markdown",
      "source": [
        "The LetterPredictor is here!<br>\n",
        "\n",
        "Please change the seed index to play around.\n"
      ],
      "metadata": {
        "id": "4VjG0QhtzR4J"
      }
    },
    {
      "cell_type": "code",
      "source": [
        "import numpy as np\n",
        "from tensorflow.keras.models import Sequential\n",
        "from tensorflow.keras.layers import Embedding, LSTM, Dense\n",
        "\n",
        "# Example training data\n",
        "training_data = ['a', 'b', 'c', 'd', 'e', 'f']\n",
        "\n",
        "# Create a mapping (making a dict) of characters to integers\n",
        "char_to_int = {char: index for index, char in enumerate(training_data)}\n",
        "int_to_char = {index: char for index, char in enumerate(training_data)}\n",
        "\n",
        "x = enumerate(training_data)\n",
        "for index, char in x:\n",
        "   print(index, char)\n",
        "\n",
        "print(char_to_int, type(char_to_int))\n",
        "print(int_to_char, type(char_to_int))\n",
        "\n",
        "# Generate input sequences and corresponding targets\n",
        "seq_length = 2\n",
        "dataX, dataY = [], []\n",
        "for i in range(len(training_data) - seq_length):\n",
        "    seq_in = training_data[i:i + seq_length]\n",
        "    seq_out = training_data[i + seq_length]\n",
        "    dataX.append([char_to_int[char] for char in seq_in])\n",
        "    dataY.append(char_to_int[seq_out])\n",
        "\n",
        "# Convert the data to numpy arrays\n",
        "X = np.reshape(dataX, (len(dataX), seq_length, 1))\n",
        "X = X / float(len(training_data))\n",
        "y = np.array(dataY)"
      ],
      "metadata": {
        "id": "I2zro3dnsJDs"
      },
      "execution_count": null,
      "outputs": []
    },
    {
      "cell_type": "code",
      "source": [
        "# Define the model\n",
        "model = Sequential()\n",
        "model.add(LSTM(50, input_shape=(X.shape[1], X.shape[2])))\n",
        "model.add(Dense(len(training_data), activation='softmax'))\n",
        "model.compile(loss='sparse_categorical_crossentropy', optimizer='adam', metrics=['accuracy'])\n",
        "\n",
        "model.fit(X, y, epochs=100, batch_size=1, verbose=2)"
      ],
      "metadata": {
        "id": "8_kv281Puzw5"
      },
      "execution_count": null,
      "outputs": []
    },
    {
      "cell_type": "code",
      "source": [
        "def generate_sequence(seed, model, length):\n",
        "    result = seed.copy()\n",
        "    for _ in range(length):\n",
        "        x = np.reshape(seed, (1, len(seed), 1))\n",
        "        x = x / float(len(training_data))\n",
        "        prediction = model.predict(x, verbose=0)\n",
        "        index = np.argmax(prediction)\n",
        "        result.append(index)\n",
        "        seed = seed[1:] + [index]\n",
        "    return int_to_char[result[-1]]"
      ],
      "metadata": {
        "id": "ov9Q7HHju-Cr"
      },
      "execution_count": null,
      "outputs": []
    },
    {
      "cell_type": "code",
      "source": [
        "# Generate predictions\n",
        "seed = dataX[2] # Change seed index for your desired sequence of letters\n",
        "print(dataX[:])\n",
        "print(f\"seed{seed}\")\n",
        "generated_letter = generate_sequence(seed, model, length=1)\n",
        "print(\"Generated Letter:\", generated_letter)"
      ],
      "metadata": {
        "colab": {
          "base_uri": "https://localhost:8080/"
        },
        "id": "5MdK_KfUsUrK",
        "outputId": "1b84110e-ac41-406d-f134-ecaa258ba535"
      },
      "execution_count": 8,
      "outputs": [
        {
          "output_type": "stream",
          "name": "stdout",
          "text": [
            "[[0, 1], [1, 2], [2, 3], [3, 4]]\n",
            "seed[2, 3]\n",
            "Generated Letter: f\n"
          ]
        }
      ]
    }
  ]
}
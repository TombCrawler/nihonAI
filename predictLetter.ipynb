{
  "nbformat": 4,
  "nbformat_minor": 0,
  "metadata": {
    "colab": {
      "provenance": [],
      "authorship_tag": "ABX9TyOxBCKgPgS7WjSd2WjLD2g8",
      "include_colab_link": true
    },
    "kernelspec": {
      "name": "python3",
      "display_name": "Python 3"
    },
    "language_info": {
      "name": "python"
    }
  },
  "cells": [
    {
      "cell_type": "markdown",
      "metadata": {
        "id": "view-in-github",
        "colab_type": "text"
      },
      "source": [
        "<a href=\"https://colab.research.google.com/github/TombCrawler/nihonAI/blob/main/predictLetter.ipynb\" target=\"_parent\"><img src=\"https://colab.research.google.com/assets/colab-badge.svg\" alt=\"Open In Colab\"/></a>"
      ]
    },
    {
      "cell_type": "code",
      "source": [
        "import numpy as np\n",
        "from tensorflow.keras.models import Sequential\n",
        "from tensorflow.keras.layers import Embedding, LSTM, Dense\n",
        "\n",
        "# Example training data\n",
        "training_data = ['a', 'b', 'c', 'd', 'e', 'f']\n",
        "\n",
        "# Create a mapping of characters to integers\n",
        "char_to_int = {char: i for i, char in enumerate(training_data)}\n",
        "int_to_char = {i: char for i, char in enumerate(training_data)}\n",
        "\n",
        "# Generate input sequences and corresponding targets\n",
        "seq_length = 2\n",
        "dataX, dataY = [], []\n",
        "for i in range(len(training_data) - seq_length):\n",
        "    seq_in = training_data[i:i + seq_length]\n",
        "    seq_out = training_data[i + seq_length]\n",
        "    dataX.append([char_to_int[char] for char in seq_in])\n",
        "    dataY.append(char_to_int[seq_out])\n",
        "\n",
        "# Convert the data to numpy arrays\n",
        "X = np.reshape(dataX, (len(dataX), seq_length, 1))\n",
        "X = X / float(len(training_data))\n",
        "y = np.array(dataY)\n",
        "\n",
        "# Define the model\n",
        "model = Sequential()\n",
        "model.add(LSTM(50, input_shape=(X.shape[1], X.shape[2])))\n",
        "model.add(Dense(len(training_data), activation='softmax'))\n",
        "model.compile(loss='sparse_categorical_crossentropy', optimizer='adam', metrics=['accuracy'])\n",
        "\n",
        "# Train the model\n",
        "model.fit(X, y, epochs=100, batch_size=1, verbose=2)\n",
        "\n",
        "# Function to generate predictions\n",
        "def generate_sequence(seed, model, length):\n",
        "    result = seed.copy()\n",
        "    for _ in range(length):\n",
        "        x = np.reshape(seed, (1, len(seed), 1))\n",
        "        x = x / float(len(training_data))\n",
        "        prediction = model.predict(x, verbose=0)\n",
        "        index = np.argmax(prediction)\n",
        "        result.append(index)\n",
        "        seed = seed[1:] + [index]\n",
        "    return int_to_char[result[-1]]"
      ],
      "metadata": {
        "id": "I2zro3dnsJDs"
      },
      "execution_count": null,
      "outputs": []
    },
    {
      "cell_type": "code",
      "source": [
        "# Generate predictions\n",
        "seed = dataX[2]\n",
        "print(dataX[:])\n",
        "print(f\"seed{seed}\")\n",
        "generated_letter = generate_sequence(seed, model, length=1)\n",
        "print(\"Generated Letter:\", generated_letter)"
      ],
      "metadata": {
        "colab": {
          "base_uri": "https://localhost:8080/"
        },
        "id": "5MdK_KfUsUrK",
        "outputId": "1b84110e-ac41-406d-f134-ecaa258ba535"
      },
      "execution_count": 8,
      "outputs": [
        {
          "output_type": "stream",
          "name": "stdout",
          "text": [
            "[[0, 1], [1, 2], [2, 3], [3, 4]]\n",
            "seed[2, 3]\n",
            "Generated Letter: f\n"
          ]
        }
      ]
    }
  ]
}